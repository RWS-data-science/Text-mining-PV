{
 "cells": [
  {
   "cell_type": "markdown",
   "metadata": {},
   "source": [
    "# This script reads the rtf files and extracts information"
   ]
  },
  {
   "cell_type": "code",
   "execution_count": 1,
   "metadata": {},
   "outputs": [
    {
     "name": "stdout",
     "output_type": "stream",
     "text": [
      "a\n"
     ]
    }
   ],
   "source": [
    "from pyth.plugins.rtf15.reader import Rtf15Reader\n",
    "from pyth.plugins.plaintext.writer import PlaintextWriter\n",
    "\n",
    "doc = Rtf15Reader.read(open('PV/10181.rtf'))\n",
    "\n",
    "#print PlaintextWriter.write(doc).getvalue()\n",
    "doc2 = PlaintextWriter.write(doc).getvalue()\n",
    "print('a')"
   ]
  },
  {
   "cell_type": "code",
   "execution_count": 3,
   "metadata": {
    "collapsed": true
   },
   "outputs": [],
   "source": [
    "from pyth.plugins.xhtml.writer import XHTMLWriter\n",
    "#print XHTMLWriter.write(doc, pretty=True).read()\n",
    "html = XHTMLWriter.write(doc, pretty=True).read()"
   ]
  },
  {
   "cell_type": "code",
   "execution_count": 4,
   "metadata": {
    "collapsed": true
   },
   "outputs": [],
   "source": [
    "import urllib\n",
    "from bs4 import BeautifulSoup\n",
    "\n",
    "\n",
    "soup = BeautifulSoup(html)\n",
    "\n",
    "\n",
    "page= soup.body.findAll('p')\n",
    "strong = soup.body.findAll('strong')#.getText()\n",
    "#print(page)\n"
   ]
  },
  {
   "cell_type": "code",
   "execution_count": 65,
   "metadata": {},
   "outputs": [
    {
     "name": "stdout",
     "output_type": "stream",
     "text": [
      "<p><strong>Beknopte omschrijving ongeval</strong></p>\n"
     ]
    }
   ],
   "source": [
    "#print('<p>'+str(matches[0])+'</p>')"
   ]
  },
  {
   "cell_type": "code",
   "execution_count": 5,
   "metadata": {
    "collapsed": true
   },
   "outputs": [],
   "source": [
    "matches = [s for s in strong if 'omschrijving' in str(s)]\n",
    "#print(matches)\n",
    "#print any('omschrijving' in string for string in page)\n",
    "\n",
    "#print page.index('<p>'+str(matches[0])+'</p>')\n",
    "\n",
    "# for text in strong:\n",
    "#     if 'POLITIE' in text:\n",
    "#         print(text)"
   ]
  },
  {
   "cell_type": "code",
   "execution_count": 16,
   "metadata": {},
   "outputs": [
    {
     "name": "stdout",
     "output_type": "stream",
     "text": [
      "<generator object rtf_iter_objects at 0x1064f94b0>\n"
     ]
    }
   ],
   "source": []
  },
  {
   "cell_type": "markdown",
   "metadata": {},
   "source": [
    "# Oud"
   ]
  },
  {
   "cell_type": "code",
   "execution_count": 6,
   "metadata": {
    "collapsed": true
   },
   "outputs": [],
   "source": [
    "import nltk\n",
    "#nltk.download('all')\n",
    "#sentence = \"\"\"At eight o'clock on Thursday morning Arthur didn't feel very good.\"\"\"\n",
    "tokens = nltk.word_tokenize(doc2)\n",
    "#print(tokens)\n"
   ]
  },
  {
   "cell_type": "code",
   "execution_count": null,
   "metadata": {
    "collapsed": true
   },
   "outputs": [],
   "source": []
  },
  {
   "cell_type": "code",
   "execution_count": 7,
   "metadata": {
    "collapsed": true
   },
   "outputs": [],
   "source": [
    "filtered_words = filter(lambda token: token not in ',-:();.', tokens)\n",
    "#print(filtered_words)"
   ]
  },
  {
   "cell_type": "code",
   "execution_count": 8,
   "metadata": {},
   "outputs": [
    {
     "ename": "NameError",
     "evalue": "name 'ngrams' is not defined",
     "output_type": "error",
     "traceback": [
      "\u001b[0;31m---------------------------------------------------------------------------\u001b[0m",
      "\u001b[0;31mNameError\u001b[0m                                 Traceback (most recent call last)",
      "\u001b[0;32m<ipython-input-8-f59d760d8f68>\u001b[0m in \u001b[0;36m<module>\u001b[0;34m()\u001b[0m\n\u001b[1;32m      6\u001b[0m  \u001b[0;31m#   return [ ' '.join(grams) for grams in n_grams]\u001b[0m\u001b[0;34m\u001b[0m\u001b[0;34m\u001b[0m\u001b[0m\n\u001b[1;32m      7\u001b[0m \u001b[0;34m\u001b[0m\u001b[0m\n\u001b[0;32m----> 8\u001b[0;31m \u001b[0mn\u001b[0m\u001b[0;34m=\u001b[0m\u001b[0;34m(\u001b[0m\u001b[0mngrams\u001b[0m\u001b[0;34m(\u001b[0m\u001b[0mfiltered_words\u001b[0m\u001b[0;34m,\u001b[0m \u001b[0;36m3\u001b[0m \u001b[0;34m)\u001b[0m\u001b[0;34m)\u001b[0m\u001b[0;34m\u001b[0m\u001b[0m\n\u001b[0m\u001b[1;32m      9\u001b[0m \u001b[0;31m#print [ ' '.join(grams) for grams in n]\u001b[0m\u001b[0;34m\u001b[0m\u001b[0;34m\u001b[0m\u001b[0m\n",
      "\u001b[0;31mNameError\u001b[0m: name 'ngrams' is not defined"
     ]
    }
   ],
   "source": [
    "#from nltk.tokenize import word_tokenize\n",
    "#from nltk.util import ngrams\n",
    "\n",
    "#def get_ngrams(text, n ):\n",
    "#    n_grams = ngrams(word_tokenize(text), n)\n",
    " #   return [ ' '.join(grams) for grams in n_grams]\n",
    "\n",
    "n=(ngrams(filtered_words, 3 ))\n",
    "#print [ ' '.join(grams) for grams in n]"
   ]
  },
  {
   "cell_type": "code",
   "execution_count": 9,
   "metadata": {
    "collapsed": true
   },
   "outputs": [],
   "source": [
    "import nltk\n",
    "fdist1 = nltk.FreqDist(filtered_words)\n",
    "#fdist1.most_common(50)"
   ]
  },
  {
   "cell_type": "code",
   "execution_count": 54,
   "metadata": {},
   "outputs": [
    {
     "name": "stdout",
     "output_type": "stream",
     "text": [
      "neg\n"
     ]
    }
   ],
   "source": [
    "from nltk.corpus import movie_reviews\n",
    "#print(movie_reviews.words('neg/cv001_19502.txt'))\n",
    "#print(list(movie_reviews.words('neg/cv001_19502.txt')))\n",
    "documents = [(list(movie_reviews.words(fileid)), category) for category in movie_reviews.categories() for fileid in movie_reviews.fileids(category)]\n",
    "print(documents[0][1])\n",
    "#print(movie_reviews.fileids())\n",
    "#documents = [(list(movie_reviews.words(fileid)), category)\n",
    " #            for category in movie_reviews.categories()\n",
    "#          for fileid in movie_reviews.fileids(category)]\n",
    "#random.shuffle(documents)"
   ]
  },
  {
   "cell_type": "code",
   "execution_count": null,
   "metadata": {
    "collapsed": true
   },
   "outputs": [],
   "source": [
    "all_words = nltk.FreqDist(w.lower() for w in filtered_words)\n",
    "word_features = list(all_words)[:2000] [1]\n",
    "\n",
    "def document_features(document): [2]\n",
    "    document_words = set(document) [3]\n",
    "    features = {}\n",
    "    for word in word_features:\n",
    "        features['contains({})'.format(word)] = (word in document_words)\n",
    "    return features"
   ]
  },
  {
   "cell_type": "code",
   "execution_count": null,
   "metadata": {
    "collapsed": true
   },
   "outputs": [],
   "source": []
  },
  {
   "cell_type": "code",
   "execution_count": null,
   "metadata": {
    "collapsed": true
   },
   "outputs": [],
   "source": []
  }
 ],
 "metadata": {
  "kernelspec": {
   "display_name": "Python 2",
   "language": "python",
   "name": "python2"
  },
  "language_info": {
   "codemirror_mode": {
    "name": "ipython",
    "version": 2
   },
   "file_extension": ".py",
   "mimetype": "text/x-python",
   "name": "python",
   "nbconvert_exporter": "python",
   "pygments_lexer": "ipython2",
   "version": "2.7.13"
  }
 },
 "nbformat": 4,
 "nbformat_minor": 2
}
